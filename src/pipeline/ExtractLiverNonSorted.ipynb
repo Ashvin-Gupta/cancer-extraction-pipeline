{
 "cells": [
  {
   "cell_type": "code",
   "execution_count": 1,
   "id": "e243d195-e983-4a51-a1d1-62ea13a447f2",
   "metadata": {},
   "outputs": [],
   "source": [
    "import polars as pl\n",
    "import yaml\n",
    "import glob\n",
    "import os\n",
    "from pathlib import Path"
   ]
  },
  {
   "cell_type": "code",
   "execution_count": 2,
   "id": "dd218556-1d48-493f-b06f-d585703d0bd3",
   "metadata": {},
   "outputs": [],
   "source": [
    "DATE_FORMAT = \"%d/%m/%Y\"\n",
    "SUBJECT_FILE = '/data/home/qc25022/cancer-extraction-pipeline/output/liver_study/subject_information.csv'\n",
    "config_path = '/data/home/qc25022/cancer-extraction-pipeline/config.yaml'"
   ]
  },
  {
   "cell_type": "code",
   "execution_count": 3,
   "id": "f1987d59-d6af-486a-82c8-c316df2ad80c",
   "metadata": {},
   "outputs": [],
   "source": [
    "with open(config_path, 'r') as f:\n",
    "    config = yaml.safe_load(f)\n",
    "PATHS = config['paths']\n",
    "OUTPUTS = config['outputs']\n"
   ]
  },
  {
   "cell_type": "code",
   "execution_count": 4,
   "id": "23f28cf5-f1d2-4756-a3d2-e321f3e5fa06",
   "metadata": {},
   "outputs": [],
   "source": [
    "observation_files = glob.glob(os.path.join(PATHS['observation_data_dir'], \"*.txt\"))\n",
    "observation_dtypes = {\n",
    "    \"e_patid\": pl.Int64,\n",
    "    \"obsdate\": pl.String,      # Read as string, parse to date later\n",
    "    \"medcodeid\": pl.String,\n",
    "    \"value\": pl.Float64,\n",
    "}\n",
    "observations_df = pl.concat(\n",
    "    [\n",
    "        pl.scan_csv(\n",
    "            f,\n",
    "            separator=\"\\t\",\n",
    "            has_header=True,\n",
    "            schema_overrides=observation_dtypes\n",
    "        ).select(observation_dtypes.keys())\n",
    "        for f in observation_files\n",
    "    ],\n",
    "    how=\"vertical\",\n",
    ")"
   ]
  },
  {
   "cell_type": "code",
   "execution_count": 5,
   "id": "675350ca-4c36-4b08-8409-8609cc067265",
   "metadata": {},
   "outputs": [],
   "source": [
    "subjects_df = pl.scan_csv(SUBJECT_FILE).rename({\"subject_id\": \"e_patid\"})"
   ]
  },
  {
   "cell_type": "code",
   "execution_count": 6,
   "id": "7d79997c-120f-4aa7-b7a9-9a1f204cc633",
   "metadata": {},
   "outputs": [
    {
     "name": "stderr",
     "output_type": "stream",
     "text": [
      "/tmp/6394530.1.all.q/ipykernel_1288627/3746040676.py:1: DeprecationWarning: `LazyFrame.fetch` is deprecated; use `LazyFrame.collect` instead, in conjunction with a call to `head`.\n",
      "  subjects_df.fetch(10)\n"
     ]
    },
    {
     "data": {
      "text/html": [
       "<div><style>\n",
       ".dataframe > thead > tr,\n",
       ".dataframe > tbody > tr {\n",
       "  text-align: right;\n",
       "  white-space: pre-wrap;\n",
       "}\n",
       "</style>\n",
       "<small>shape: (10, 10)</small><table border=\"1\" class=\"dataframe\"><thead><tr><th>e_patid</th><th>is_case</th><th>cancerdate</th><th>site</th><th>e_pracid</th><th>region</th><th>gender</th><th>yob</th><th>ethnicity</th><th>split</th></tr><tr><td>i64</td><td>i64</td><td>str</td><td>str</td><td>i64</td><td>i64</td><td>str</td><td>i64</td><td>str</td><td>str</td></tr></thead><tbody><tr><td>430727151309</td><td>0</td><td>null</td><td>&quot;Control&quot;</td><td>51309</td><td>1</td><td>&quot;male&quot;</td><td>1954</td><td>&quot;White&quot;</td><td>&quot;train&quot;</td></tr><tr><td>226559150624</td><td>0</td><td>null</td><td>&quot;Control&quot;</td><td>50624</td><td>8</td><td>&quot;male&quot;</td><td>1947</td><td>&quot;Unknown&quot;</td><td>&quot;train&quot;</td></tr><tr><td>1399713050807</td><td>0</td><td>null</td><td>&quot;Control&quot;</td><td>50807</td><td>9</td><td>&quot;male&quot;</td><td>1933</td><td>&quot;White&quot;</td><td>&quot;train&quot;</td></tr><tr><td>666794550402</td><td>0</td><td>null</td><td>&quot;Control&quot;</td><td>50402</td><td>2</td><td>&quot;male&quot;</td><td>1963</td><td>&quot;White&quot;</td><td>&quot;train&quot;</td></tr><tr><td>518528650618</td><td>1</td><td>&quot;2016-04-01T00:00:00.000000000&quot;</td><td>&quot;liver&quot;</td><td>50618</td><td>5</td><td>&quot;male&quot;</td><td>1936</td><td>&quot;White&quot;</td><td>&quot;train&quot;</td></tr><tr><td>993863750159</td><td>0</td><td>null</td><td>&quot;Control&quot;</td><td>50159</td><td>2</td><td>&quot;female&quot;</td><td>1940</td><td>&quot;White&quot;</td><td>&quot;train&quot;</td></tr><tr><td>52637350490</td><td>0</td><td>null</td><td>&quot;Control&quot;</td><td>50490</td><td>5</td><td>&quot;female&quot;</td><td>1937</td><td>&quot;White&quot;</td><td>&quot;train&quot;</td></tr><tr><td>316654450396</td><td>0</td><td>null</td><td>&quot;Control&quot;</td><td>50396</td><td>8</td><td>&quot;female&quot;</td><td>1937</td><td>&quot;White&quot;</td><td>&quot;train&quot;</td></tr><tr><td>153103150767</td><td>0</td><td>null</td><td>&quot;Control&quot;</td><td>50767</td><td>5</td><td>&quot;female&quot;</td><td>1930</td><td>&quot;White&quot;</td><td>&quot;train&quot;</td></tr><tr><td>1189211850680</td><td>0</td><td>null</td><td>&quot;Control&quot;</td><td>50680</td><td>7</td><td>&quot;male&quot;</td><td>1945</td><td>&quot;White&quot;</td><td>&quot;train&quot;</td></tr></tbody></table></div>"
      ],
      "text/plain": [
       "shape: (10, 10)\n",
       "┌───────────────┬─────────┬──────────────────────┬─────────┬───┬────────┬──────┬───────────┬───────┐\n",
       "│ e_patid       ┆ is_case ┆ cancerdate           ┆ site    ┆ … ┆ gender ┆ yob  ┆ ethnicity ┆ split │\n",
       "│ ---           ┆ ---     ┆ ---                  ┆ ---     ┆   ┆ ---    ┆ ---  ┆ ---       ┆ ---   │\n",
       "│ i64           ┆ i64     ┆ str                  ┆ str     ┆   ┆ str    ┆ i64  ┆ str       ┆ str   │\n",
       "╞═══════════════╪═════════╪══════════════════════╪═════════╪═══╪════════╪══════╪═══════════╪═══════╡\n",
       "│ 430727151309  ┆ 0       ┆ null                 ┆ Control ┆ … ┆ male   ┆ 1954 ┆ White     ┆ train │\n",
       "│ 226559150624  ┆ 0       ┆ null                 ┆ Control ┆ … ┆ male   ┆ 1947 ┆ Unknown   ┆ train │\n",
       "│ 1399713050807 ┆ 0       ┆ null                 ┆ Control ┆ … ┆ male   ┆ 1933 ┆ White     ┆ train │\n",
       "│ 666794550402  ┆ 0       ┆ null                 ┆ Control ┆ … ┆ male   ┆ 1963 ┆ White     ┆ train │\n",
       "│ 518528650618  ┆ 1       ┆ 2016-04-01T00:00:00. ┆ liver   ┆ … ┆ male   ┆ 1936 ┆ White     ┆ train │\n",
       "│               ┆         ┆ 000000000            ┆         ┆   ┆        ┆      ┆           ┆       │\n",
       "│ 993863750159  ┆ 0       ┆ null                 ┆ Control ┆ … ┆ female ┆ 1940 ┆ White     ┆ train │\n",
       "│ 52637350490   ┆ 0       ┆ null                 ┆ Control ┆ … ┆ female ┆ 1937 ┆ White     ┆ train │\n",
       "│ 316654450396  ┆ 0       ┆ null                 ┆ Control ┆ … ┆ female ┆ 1937 ┆ White     ┆ train │\n",
       "│ 153103150767  ┆ 0       ┆ null                 ┆ Control ┆ … ┆ female ┆ 1930 ┆ White     ┆ train │\n",
       "│ 1189211850680 ┆ 0       ┆ null                 ┆ Control ┆ … ┆ male   ┆ 1945 ┆ White     ┆ train │\n",
       "└───────────────┴─────────┴──────────────────────┴─────────┴───┴────────┴──────┴───────────┴───────┘"
      ]
     },
     "execution_count": 6,
     "metadata": {},
     "output_type": "execute_result"
    }
   ],
   "source": [
    "subjects_df.fetch(10)"
   ]
  },
  {
   "cell_type": "code",
   "execution_count": 7,
   "id": "b5b40e29-7ec8-4e1c-95f9-1866fb1b4469",
   "metadata": {},
   "outputs": [],
   "source": [
    "obs_standardized_df = observations_df.with_columns(\n",
    "    time=pl.col(\"obsdate\").str.to_date(DATE_FORMAT, strict=False),\n",
    "    code=pl.lit(\"medcodeid//\") + pl.col(\"medcodeid\"),\n",
    "    numeric_value=pl.col(\"value\"),\n",
    "    # duration=pl.lit(None, dtype=pl.Float64),\n",
    ").select([\"e_patid\", \"time\", \"code\", \"numeric_value\"])"
   ]
  },
  {
   "cell_type": "code",
   "execution_count": 24,
   "id": "2346d44d-3ebf-4d22-91f8-850453f0cb4c",
   "metadata": {},
   "outputs": [],
   "source": [
    "subject_filter_df = subjects_df.select(\n",
    "    \"e_patid\",\n",
    "    # This correctly handles your \"YYYY-MM-DDTHH:MM:SS...\" format\n",
    "    pl.col(\"cancerdate\").str.to_datetime().cast(pl.Date)\n",
    ")"
   ]
  },
  {
   "cell_type": "code",
   "execution_count": 25,
   "id": "de0b4843-0c77-4986-8958-732a9d655b4e",
   "metadata": {},
   "outputs": [
    {
     "name": "stderr",
     "output_type": "stream",
     "text": [
      "/tmp/6394530.1.all.q/ipykernel_1288627/329739108.py:1: DeprecationWarning: `LazyFrame.fetch` is deprecated; use `LazyFrame.collect` instead, in conjunction with a call to `head`.\n",
      "  subject_filter_df.fetch(5)\n"
     ]
    },
    {
     "data": {
      "text/html": [
       "<div><style>\n",
       ".dataframe > thead > tr,\n",
       ".dataframe > tbody > tr {\n",
       "  text-align: right;\n",
       "  white-space: pre-wrap;\n",
       "}\n",
       "</style>\n",
       "<small>shape: (5, 2)</small><table border=\"1\" class=\"dataframe\"><thead><tr><th>e_patid</th><th>cancerdate</th></tr><tr><td>i64</td><td>date</td></tr></thead><tbody><tr><td>430727151309</td><td>null</td></tr><tr><td>226559150624</td><td>null</td></tr><tr><td>1399713050807</td><td>null</td></tr><tr><td>666794550402</td><td>null</td></tr><tr><td>518528650618</td><td>2016-04-01</td></tr></tbody></table></div>"
      ],
      "text/plain": [
       "shape: (5, 2)\n",
       "┌───────────────┬────────────┐\n",
       "│ e_patid       ┆ cancerdate │\n",
       "│ ---           ┆ ---        │\n",
       "│ i64           ┆ date       │\n",
       "╞═══════════════╪════════════╡\n",
       "│ 430727151309  ┆ null       │\n",
       "│ 226559150624  ┆ null       │\n",
       "│ 1399713050807 ┆ null       │\n",
       "│ 666794550402  ┆ null       │\n",
       "│ 518528650618  ┆ 2016-04-01 │\n",
       "└───────────────┴────────────┘"
      ]
     },
     "execution_count": 25,
     "metadata": {},
     "output_type": "execute_result"
    }
   ],
   "source": [
    "subject_filter_df.fetch(5)"
   ]
  },
  {
   "cell_type": "code",
   "execution_count": 38,
   "id": "2f0c1e6b-e2e9-4e8b-befc-f16701df6835",
   "metadata": {},
   "outputs": [],
   "source": [
    "filtered_medical_events_df = obs_standardized_df.join(\n",
    "    subject_filter_df, on=\"e_patid\", how=\"inner\"\n",
    ").filter(\n",
    "    (pl.col(\"time\") <= pl.col(\"cancerdate\")) | (pl.col(\"cancerdate\").is_null())\n",
    ").drop(\"cancerdate\")"
   ]
  },
  {
   "cell_type": "code",
   "execution_count": 39,
   "id": "7739b6ef-3e45-470b-aaf1-41e953296dae",
   "metadata": {},
   "outputs": [
    {
     "name": "stderr",
     "output_type": "stream",
     "text": [
      "/tmp/6394530.1.all.q/ipykernel_3384033/3574619043.py:1: PerformanceWarning: Determining the data types of a LazyFrame requires resolving its schema, which is a potentially expensive operation. Use `LazyFrame.collect_schema().dtypes()` to get the data types without this warning.\n",
      "  filtered_medical_events_df.dtypes\n"
     ]
    },
    {
     "ename": "KeyboardInterrupt",
     "evalue": "",
     "output_type": "error",
     "traceback": [
      "\u001b[31m---------------------------------------------------------------------------\u001b[39m",
      "\u001b[31mKeyboardInterrupt\u001b[39m                         Traceback (most recent call last)",
      "\u001b[36mCell\u001b[39m\u001b[36m \u001b[39m\u001b[32mIn[39]\u001b[39m\u001b[32m, line 1\u001b[39m\n\u001b[32m----> \u001b[39m\u001b[32m1\u001b[39m \u001b[43mfiltered_medical_events_df\u001b[49m\u001b[43m.\u001b[49m\u001b[43mdtypes\u001b[49m\n",
      "\u001b[36mFile \u001b[39m\u001b[32m/data/scratch/qc25022/anaconda/envs/dataextraction/lib/python3.13/site-packages/polars/lazyframe/frame.py:606\u001b[39m, in \u001b[36mLazyFrame.dtypes\u001b[39m\u001b[34m(self)\u001b[39m\n\u001b[32m    568\u001b[39m \u001b[38;5;250m\u001b[39m\u001b[33;03m\"\"\"\u001b[39;00m\n\u001b[32m    569\u001b[39m \u001b[33;03mGet the column data types.\u001b[39;00m\n\u001b[32m    570\u001b[39m \n\u001b[32m   (...)\u001b[39m\u001b[32m    598\u001b[39m \u001b[33;03m[Int64, Float64, String]\u001b[39;00m\n\u001b[32m    599\u001b[39m \u001b[33;03m\"\"\"\u001b[39;00m\n\u001b[32m    600\u001b[39m issue_warning(\n\u001b[32m    601\u001b[39m     \u001b[33m\"\u001b[39m\u001b[33mDetermining the data types of a LazyFrame requires resolving its schema,\u001b[39m\u001b[33m\"\u001b[39m\n\u001b[32m    602\u001b[39m     \u001b[33m\"\u001b[39m\u001b[33m which is a potentially expensive operation. Use `LazyFrame.collect_schema().dtypes()`\u001b[39m\u001b[33m\"\u001b[39m\n\u001b[32m    603\u001b[39m     \u001b[33m\"\u001b[39m\u001b[33m to get the data types without this warning.\u001b[39m\u001b[33m\"\u001b[39m,\n\u001b[32m    604\u001b[39m     category=PerformanceWarning,\n\u001b[32m    605\u001b[39m )\n\u001b[32m--> \u001b[39m\u001b[32m606\u001b[39m \u001b[38;5;28;01mreturn\u001b[39;00m \u001b[38;5;28;43mself\u001b[39;49m\u001b[43m.\u001b[49m\u001b[43mcollect_schema\u001b[49m\u001b[43m(\u001b[49m\u001b[43m)\u001b[49m.dtypes()\n",
      "\u001b[36mFile \u001b[39m\u001b[32m/data/scratch/qc25022/anaconda/envs/dataextraction/lib/python3.13/site-packages/polars/lazyframe/frame.py:2488\u001b[39m, in \u001b[36mLazyFrame.collect_schema\u001b[39m\u001b[34m(self)\u001b[39m\n\u001b[32m   2458\u001b[39m \u001b[38;5;28;01mdef\u001b[39;00m\u001b[38;5;250m \u001b[39m\u001b[34mcollect_schema\u001b[39m(\u001b[38;5;28mself\u001b[39m) -> Schema:\n\u001b[32m   2459\u001b[39m \u001b[38;5;250m    \u001b[39m\u001b[33;03m\"\"\"\u001b[39;00m\n\u001b[32m   2460\u001b[39m \u001b[33;03m    Resolve the schema of this LazyFrame.\u001b[39;00m\n\u001b[32m   2461\u001b[39m \n\u001b[32m   (...)\u001b[39m\u001b[32m   2486\u001b[39m \u001b[33;03m    3\u001b[39;00m\n\u001b[32m   2487\u001b[39m \u001b[33;03m    \"\"\"\u001b[39;00m\n\u001b[32m-> \u001b[39m\u001b[32m2488\u001b[39m     \u001b[38;5;28;01mreturn\u001b[39;00m Schema(\u001b[38;5;28;43mself\u001b[39;49m\u001b[43m.\u001b[49m\u001b[43m_ldf\u001b[49m\u001b[43m.\u001b[49m\u001b[43mcollect_schema\u001b[49m\u001b[43m(\u001b[49m\u001b[43m)\u001b[49m, check_dtypes=\u001b[38;5;28;01mFalse\u001b[39;00m)\n",
      "\u001b[31mKeyboardInterrupt\u001b[39m: "
     ]
    }
   ],
   "source": [
    "filtered_medical_events_df.dtypes"
   ]
  },
  {
   "cell_type": "markdown",
   "id": "4117838c-7716-404c-ad51-7b68c1903624",
   "metadata": {},
   "source": [
    "# View unsorted data"
   ]
  },
  {
   "cell_type": "code",
   "execution_count": 3,
   "id": "d9037d5c-b577-4156-84ff-52da0d7f6a14",
   "metadata": {},
   "outputs": [],
   "source": [
    "path = '/data/scratch/qc25022/liver/intermediate_sorted/*.parquet'\n",
    "lazydf = pl.scan_parquet(path)"
   ]
  },
  {
   "cell_type": "code",
   "execution_count": 4,
   "id": "eb01cd45-b2ca-496d-9669-7558195a4aec",
   "metadata": {},
   "outputs": [
    {
     "name": "stderr",
     "output_type": "stream",
     "text": [
      "/tmp/6411912.1.all.q/ipykernel_2901515/728052476.py:1: DeprecationWarning: `LazyFrame.fetch` is deprecated; use `LazyFrame.collect` instead, in conjunction with a call to `head`.\n",
      "  lazydf.fetch(50)\n"
     ]
    },
    {
     "data": {
      "text/html": [
       "<div><style>\n",
       ".dataframe > thead > tr,\n",
       ".dataframe > tbody > tr {\n",
       "  text-align: right;\n",
       "  white-space: pre-wrap;\n",
       "}\n",
       "</style>\n",
       "<small>shape: (50, 4)</small><table border=\"1\" class=\"dataframe\"><thead><tr><th>subject_id</th><th>time</th><th>code</th><th>numeric_value</th></tr><tr><td>i64</td><td>date</td><td>str</td><td>f64</td></tr></thead><tbody><tr><td>17851000</td><td>1945-01-01</td><td>&quot;MEDS_BIRTH&quot;</td><td>null</td></tr><tr><td>17851000</td><td>1964-01-01</td><td>&quot;medcodeid//263435019&quot;</td><td>null</td></tr><tr><td>17851000</td><td>1965-01-01</td><td>&quot;medcodeid//263435019&quot;</td><td>null</td></tr><tr><td>17851000</td><td>1972-01-01</td><td>&quot;medcodeid//263435019&quot;</td><td>null</td></tr><tr><td>17851000</td><td>1987-11-27</td><td>&quot;medcodeid//14070451000006117&quot;</td><td>null</td></tr><tr><td>&hellip;</td><td>&hellip;</td><td>&hellip;</td><td>&hellip;</td></tr><tr><td>17851000</td><td>1998-03-12</td><td>&quot;medcodeid//254063019&quot;</td><td>null</td></tr><tr><td>17851000</td><td>1998-03-12</td><td>&quot;medcodeid//249721015&quot;</td><td>null</td></tr><tr><td>17851000</td><td>1998-03-12</td><td>&quot;medcodeid//787121000006116&quot;</td><td>65.3</td></tr><tr><td>17851000</td><td>1998-03-12</td><td>&quot;medcodeid//253677014&quot;</td><td>65.0</td></tr><tr><td>17851000</td><td>1998-03-12</td><td>&quot;medcodeid//253669010&quot;</td><td>168.5</td></tr></tbody></table></div>"
      ],
      "text/plain": [
       "shape: (50, 4)\n",
       "┌────────────┬────────────┬──────────────────────────────┬───────────────┐\n",
       "│ subject_id ┆ time       ┆ code                         ┆ numeric_value │\n",
       "│ ---        ┆ ---        ┆ ---                          ┆ ---           │\n",
       "│ i64        ┆ date       ┆ str                          ┆ f64           │\n",
       "╞════════════╪════════════╪══════════════════════════════╪═══════════════╡\n",
       "│ 17851000   ┆ 1945-01-01 ┆ MEDS_BIRTH                   ┆ null          │\n",
       "│ 17851000   ┆ 1964-01-01 ┆ medcodeid//263435019         ┆ null          │\n",
       "│ 17851000   ┆ 1965-01-01 ┆ medcodeid//263435019         ┆ null          │\n",
       "│ 17851000   ┆ 1972-01-01 ┆ medcodeid//263435019         ┆ null          │\n",
       "│ 17851000   ┆ 1987-11-27 ┆ medcodeid//14070451000006117 ┆ null          │\n",
       "│ …          ┆ …          ┆ …                            ┆ …             │\n",
       "│ 17851000   ┆ 1998-03-12 ┆ medcodeid//254063019         ┆ null          │\n",
       "│ 17851000   ┆ 1998-03-12 ┆ medcodeid//249721015         ┆ null          │\n",
       "│ 17851000   ┆ 1998-03-12 ┆ medcodeid//787121000006116   ┆ 65.3          │\n",
       "│ 17851000   ┆ 1998-03-12 ┆ medcodeid//253677014         ┆ 65.0          │\n",
       "│ 17851000   ┆ 1998-03-12 ┆ medcodeid//253669010         ┆ 168.5         │\n",
       "└────────────┴────────────┴──────────────────────────────┴───────────────┘"
      ]
     },
     "execution_count": 4,
     "metadata": {},
     "output_type": "execute_result"
    }
   ],
   "source": [
    "lazydf.fetch(50)"
   ]
  },
  {
   "cell_type": "code",
   "execution_count": null,
   "id": "97974378-cd67-4c96-a637-4f245128cae6",
   "metadata": {},
   "outputs": [],
   "source": []
  }
 ],
 "metadata": {
  "kernelspec": {
   "display_name": "Python 3 (ipykernel)",
   "language": "python",
   "name": "python3"
  },
  "language_info": {
   "codemirror_mode": {
    "name": "ipython",
    "version": 3
   },
   "file_extension": ".py",
   "mimetype": "text/x-python",
   "name": "python",
   "nbconvert_exporter": "python",
   "pygments_lexer": "ipython3",
   "version": "3.13.5"
  }
 },
 "nbformat": 4,
 "nbformat_minor": 5
}

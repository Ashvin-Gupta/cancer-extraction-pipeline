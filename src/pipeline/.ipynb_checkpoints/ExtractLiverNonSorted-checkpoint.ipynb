{
 "cells": [
  {
   "cell_type": "code",
   "execution_count": 1,
   "id": "e243d195-e983-4a51-a1d1-62ea13a447f2",
   "metadata": {},
   "outputs": [],
   "source": [
    "import polars as pl\n",
    "import yaml\n",
    "import glob\n",
    "import os\n",
    "from pathlib import Path"
   ]
  },
  {
   "cell_type": "code",
   "execution_count": 5,
   "id": "b72a8420-58ac-4966-90af-b228148daca9",
   "metadata": {},
   "outputs": [],
   "source": [
    "with open('/data/home/qc25022/cancer-extraction-pipeline/config.yaml', 'r') as f:\n",
    "    config = yaml.safe_load(f)\n",
    "PATHS = config['paths']\n",
    "OUTPUTS = config['outputs']"
   ]
  },
  {
   "cell_type": "code",
   "execution_count": 7,
   "id": "dd218556-1d48-493f-b06f-d585703d0bd3",
   "metadata": {},
   "outputs": [
    {
     "ename": "SyntaxError",
     "evalue": "closing parenthesis ']' does not match opening parenthesis '(' (945880179.py, line 1)",
     "output_type": "error",
     "traceback": [
      "  \u001b[36mCell\u001b[39m\u001b[36m \u001b[39m\u001b[32mIn[7]\u001b[39m\u001b[32m, line 1\u001b[39m\n\u001b[31m    \u001b[39m\u001b[31msubjects_df = pl.read_csv('/data/home/qc25022/cancer-extraction-pipeline/output/liver_study/subject_information.csv']).with_columns(\u001b[39m\n                                                                                                                        ^\n\u001b[31mSyntaxError\u001b[39m\u001b[31m:\u001b[39m closing parenthesis ']' does not match opening parenthesis '('\n"
     ]
    }
   ],
   "source": [
    "subjects_df = pl.read_csv('/data/home/qc25022/cancer-extraction-pipeline/output/liver_study/subject_information.csv']).with_columns(\n",
    "    pl.col(\"cancerdate\").str.to_datetime(strict=False).dt.date()\n",
    ")"
   ]
  },
  {
   "cell_type": "code",
   "execution_count": null,
   "id": "cfc6b3d5-c8c2-4bdf-9101-3d896ef18e21",
   "metadata": {},
   "outputs": [],
   "source": []
  }
 ],
 "metadata": {
  "kernelspec": {
   "display_name": "Python 3 (ipykernel)",
   "language": "python",
   "name": "python3"
  },
  "language_info": {
   "codemirror_mode": {
    "name": "ipython",
    "version": 3
   },
   "file_extension": ".py",
   "mimetype": "text/x-python",
   "name": "python",
   "nbconvert_exporter": "python",
   "pygments_lexer": "ipython3",
   "version": "3.13.5"
  }
 },
 "nbformat": 4,
 "nbformat_minor": 5
}
